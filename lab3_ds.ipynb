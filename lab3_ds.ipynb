{
 "cells": [
  {
   "cell_type": "markdown",
   "metadata": {},
   "source": [
    "# Laboratorio 3 - Aprendizaje profundo CNN"
   ]
  },
  {
   "cell_type": "code",
   "execution_count": 1,
   "metadata": {},
   "outputs": [],
   "source": [
    "import pickle\n",
    "import matplotlib.pyplot as plt\n",
    "import numpy as np"
   ]
  },
  {
   "cell_type": "markdown",
   "metadata": {},
   "source": [
    "## Preparación de datos"
   ]
  },
  {
   "cell_type": "code",
   "execution_count": 2,
   "metadata": {},
   "outputs": [],
   "source": [
    "# Diccionario de labels\n",
    "labels = [\n",
    "    \"Limite velocidad (20km/h)\",\n",
    "    \"Limite velocidad (30km/h)\",\n",
    "    \"Limite velocidad (50km/h)\",\n",
    "    \"Limite velocidad (60km/h)\",\n",
    "    \"Limite velocidad (70km/h)\",\n",
    "    \"Limite velocidad (80km/h)\",\n",
    "    \"Fin de limite velocidad (80km/h)\",\n",
    "    \"Limite velocidad (100km/h)\",\n",
    "    \"Limite velocidad (120km/h)\",\n",
    "    \"No rebasar\",\n",
    "    \"No rebasar para vehículos mayores de 3.5 toneladas métricas\",\n",
    "    \"Derecho-de-vía en la siguiente intersección\",\n",
    "    \"Camino prioritario\",\n",
    "    \"Ceda el paso\",\n",
    "    \"Alto\",\n",
    "    \"No vehículos\",\n",
    "    \"Prohibido vehículos mayores de 3.5 toneladas métricas\",\n",
    "    \"No hay entrada\",\n",
    "    \"Precaución general\",\n",
    "    \"Curva peligrosa a la izquierda\",\n",
    "    \"Curva peligrosa a la derecha\",\n",
    "    \"Doble curva\",\n",
    "    \"Camino disparejo\",\n",
    "    \"Camino resbaloso\",\n",
    "    \"Camino se reduce a la derecha\",\n",
    "    \"Trabajos adelante\",\n",
    "    \"Señales de Tráfico -semáforos-\",\n",
    "    \"Cruce de peatones\",\n",
    "    \"Cruce de Niños\",\n",
    "    \"Cruce de bicicletas\",\n",
    "    \"Cuidado hielo/nieve\",\n",
    "    \"Cruce de animales silvestres\",\n",
    "    \"Fin de todos los limites de velocidad y rebase\",\n",
    "    \"Gire a la derecha adelante\",\n",
    "    \"Gire a la izquierda adelante\",\n",
    "    \"Recto solo\",\n",
    "    \"Vaya recto o a la derecha\",\n",
    "    \"Vaya recto o a la izquierda\",\n",
    "    \"Manténgase a la derecha\",\n",
    "    \"Manténgase a la izquierda\",\n",
    "    \"Vuelta en U obligada\",\n",
    "    \"Fin de no rebasar\",\n",
    "    \"Fin de no rebasar para vehículos mayores de 3.5 toneladas métricas\"\n",
    "]"
   ]
  },
  {
   "cell_type": "code",
   "execution_count": 3,
   "metadata": {},
   "outputs": [],
   "source": [
    "with open('datos\\entrenamiento.p', 'rb') as file:\n",
    "    train_data = pickle.load(file)\n",
    "    \n",
    "with open('datos\\prueba.p', 'rb') as file:\n",
    "    test_data = pickle.load(file)\n",
    "\n",
    "with open('datos\\\\validacion.p', 'rb') as file:\n",
    "    validation_data = pickle.load(file)\n"
   ]
  },
  {
   "cell_type": "code",
   "execution_count": 4,
   "metadata": {},
   "outputs": [
    {
     "name": "stdout",
     "output_type": "stream",
     "text": [
      "dict_keys(['coords', 'labels', 'features', 'sizes'])\n"
     ]
    },
    {
     "data": {
      "text/plain": [
       "(34799, 32, 32, 3)"
      ]
     },
     "execution_count": 4,
     "metadata": {},
     "output_type": "execute_result"
    }
   ],
   "source": [
    "print(train_data.keys())\n",
    "train_data['features'].shape"
   ]
  },
  {
   "cell_type": "markdown",
   "metadata": {},
   "source": [
    "**Imprimir imagen de ejemplo**"
   ]
  },
  {
   "cell_type": "code",
   "execution_count": 40,
   "metadata": {},
   "outputs": [
    {
     "name": "stdout",
     "output_type": "stream",
     "text": [
      "Label: 36  -  Vaya recto o a la derecha\n"
     ]
    },
    {
     "data": {
      "image/png": "[encoded data removed]",
      "text/plain": [
       "<Figure size 640x480 with 1 Axes>"
      ]
     },
     "metadata": {},
     "output_type": "display_data"
    }
   ],
   "source": [
    "n = 1000  # Número de la imagen que se desea visualizar\n",
    "\n",
    "print(\"Label:\", train_data['labels'][n], \" - \", labels[train_data['labels'][n]])\n",
    "\n",
    "# Extraer la imagen específica\n",
    "image_to_display = train_data['features'][n]\n",
    "\n",
    "# Mostrar la imagen\n",
    "plt.imshow(image_to_display)\n",
    "plt.title(f'Imagen {n}')\n",
    "plt.axis('off')  # Opcional: para ocultar los ejes\n",
    "plt.show()\n"
   ]
  },
  {
   "cell_type": "markdown",
   "metadata": {},
   "source": [
    "### Procesamiento de imagenes"
   ]
  },
  {
   "cell_type": "markdown",
   "metadata": {},
   "source": [
    "#### Redimensionar a tamaño promedio"
   ]
  },
  {
   "cell_type": "code",
   "execution_count": 6,
   "metadata": {},
   "outputs": [
    {
     "name": "stdout",
     "output_type": "stream",
     "text": [
      "(34799, 32, 32, 3)\n",
      "(12630, 32, 32, 3)\n",
      "(4410, 32, 32, 3)\n"
     ]
    }
   ],
   "source": [
    "print(train_data['features'].shape)\n",
    "print(test_data['features'].shape)\n",
    "print(validation_data['features'].shape)"
   ]
  },
  {
   "cell_type": "markdown",
   "metadata": {},
   "source": [
    "Todas las imagenes tienen las mismas dimensiones por lo que no es necesario redimensionar"
   ]
  },
  {
   "cell_type": "markdown",
   "metadata": {},
   "source": [
    "#### Normalizar imágenes"
   ]
  },
  {
   "cell_type": "code",
   "execution_count": 7,
   "metadata": {},
   "outputs": [],
   "source": [
    "def normalize_images(images):\n",
    "    # Convertir los valores a float y normalizar dividiendo por 255\n",
    "    images = images.astype(np.float32) / 255.0\n",
    "    return images"
   ]
  },
  {
   "cell_type": "code",
   "execution_count": 8,
   "metadata": {},
   "outputs": [],
   "source": [
    "train_data['features'] = normalize_images(train_data['features'])\n",
    "test_data['features'] = normalize_images(test_data['features'])\n",
    "validation_data['features'] = normalize_images(validation_data['features'])"
   ]
  },
  {
   "cell_type": "code",
   "execution_count": 9,
   "metadata": {},
   "outputs": [
    {
     "name": "stdout",
     "output_type": "stream",
     "text": [
      "0.0 1.0\n",
      "0.0 1.0\n",
      "0.0 1.0\n"
     ]
    }
   ],
   "source": [
    "# Verificar que los datos estén normalizados (rango de 0 a 1)\n",
    "print(train_data['features'].min(), train_data['features'].max())\n",
    "print(test_data['features'].min(), test_data['features'].max())\n",
    "print(validation_data['features'].min(), validation_data['features'].max())"
   ]
  },
  {
   "cell_type": "markdown",
   "metadata": {},
   "source": [
    "### Construcción del modelo"
   ]
  },
  {
   "cell_type": "code",
   "execution_count": 23,
   "metadata": {},
   "outputs": [],
   "source": [
    "from tensorflow.keras.models import Sequential\n",
    "from tensorflow.keras.layers import Activation, Dropout, Flatten, Dense, Conv2D, MaxPooling2D\n",
    "from tensorflow.keras.callbacks import TensorBoard"
   ]
  },
  {
   "cell_type": "code",
   "execution_count": 24,
   "metadata": {},
   "outputs": [
    {
     "data": {
      "text/plain": [
       "'2024-08-11--1830'"
      ]
     },
     "execution_count": 24,
     "metadata": {},
     "output_type": "execute_result"
    }
   ],
   "source": [
    "from datetime import datetime\n",
    "datetime.now().strftime(\"%Y-%m-%d--%H%M\")"
   ]
  },
  {
   "cell_type": "code",
   "execution_count": 25,
   "metadata": {},
   "outputs": [],
   "source": [
    "log_directory = 'logs\\\\fit'\n",
    "\n",
    "# OPCIONAL: AGREGAR UNA MARCA DE TIEMPO PARA CARPETAS UNICAS\n",
    "timestamp = datetime.now().strftime(\"%Y-%m-%d--%H%M\")\n",
    "log_directory = log_directory + '\\\\' + timestamp\n",
    "\n",
    "\n",
    "tablero = TensorBoard(log_dir = log_directory, histogram_freq = 1,\n",
    "    write_graph = True,\n",
    "    write_images = True,\n",
    "    update_freq = 'epoch',\n",
    "    profile_batch = 2,\n",
    "    embeddings_freq = 1)"
   ]
  },
  {
   "cell_type": "code",
   "execution_count": 26,
   "metadata": {},
   "outputs": [
    {
     "name": "stderr",
     "output_type": "stream",
     "text": [
      "c:\\Users\\Pablo Zamora\\AppData\\Local\\Programs\\Python\\Python311\\Lib\\site-packages\\keras\\src\\layers\\convolutional\\base_conv.py:107: UserWarning: Do not pass an `input_shape`/`input_dim` argument to a layer. When using Sequential models, prefer using an `Input(shape)` object as the first layer in the model instead.\n",
      "  super().__init__(activity_regularizer=activity_regularizer, **kwargs)\n"
     ]
    }
   ],
   "source": [
    "modelo = Sequential()\n",
    "\n",
    "forma_imagen = train_data['features'][0].shape\n",
    "\n",
    "modelo.add(Conv2D(filters=32, kernel_size=(3, 3), input_shape=forma_imagen, activation='relu'))\n",
    "modelo.add(MaxPooling2D(pool_size=(2, 2)))\n",
    "\n",
    "modelo.add(Conv2D(filters=64, kernel_size=(3, 3), activation='relu'))\n",
    "modelo.add(MaxPooling2D(pool_size=(2, 2)))\n",
    "\n",
    "modelo.add(Conv2D(filters=64, kernel_size=(3, 3), activation='relu'))\n",
    "modelo.add(MaxPooling2D(pool_size=(2, 2)))\n",
    "\n",
    "modelo.add(Flatten())\n",
    "\n",
    "modelo.add(Dense(128, activation='relu'))\n",
    "\n",
    "modelo.add(Dropout(0.5))\n",
    "\n",
    "# Ajuste para multiclase con softmax\n",
    "num_clases = len(labels)\n",
    "modelo.add(Dense(num_clases))\n",
    "modelo.add(Activation('softmax'))\n",
    "\n",
    "modelo.compile(loss='categorical_crossentropy',\n",
    "              optimizer='adam',\n",
    "              metrics=['accuracy'])"
   ]
  },
  {
   "cell_type": "code",
   "execution_count": 27,
   "metadata": {},
   "outputs": [
    {
     "data": {
      "text/html": [
       "<pre style=\"white-space:pre;overflow-x:auto;line-height:normal;font-family:Menlo,'DejaVu Sans Mono',consolas,'Courier New',monospace\"><span style=\"font-weight: bold\">Model: \"sequential_1\"</span>\n",
       "</pre>\n"
      ],
      "text/plain": [
       "\u001b[1mModel: \"sequential_1\"\u001b[0m\n"
      ]
     },
     "metadata": {},
     "output_type": "display_data"
    },
    {
     "data": {
      "text/html": [
       "<pre style=\"white-space:pre;overflow-x:auto;line-height:normal;font-family:Menlo,'DejaVu Sans Mono',consolas,'Courier New',monospace\">┏━━━━━━━━━━━━━━━━━━━━━━━━━━━━━━━━━┳━━━━━━━━━━━━━━━━━━━━━━━━┳━━━━━━━━━━━━━━━┓\n",
       "┃<span style=\"font-weight: bold\"> Layer (type)                    </span>┃<span style=\"font-weight: bold\"> Output Shape           </span>┃<span style=\"font-weight: bold\">       Param # </span>┃\n",
       "┡━━━━━━━━━━━━━━━━━━━━━━━━━━━━━━━━━╇━━━━━━━━━━━━━━━━━━━━━━━━╇━━━━━━━━━━━━━━━┩\n",
       "│ conv2d_3 (<span style=\"color: #0087ff; text-decoration-color: #0087ff\">Conv2D</span>)               │ (<span style=\"color: #00d7ff; text-decoration-color: #00d7ff\">None</span>, <span style=\"color: #00af00; text-decoration-color: #00af00\">30</span>, <span style=\"color: #00af00; text-decoration-color: #00af00\">30</span>, <span style=\"color: #00af00; text-decoration-color: #00af00\">32</span>)     │           <span style=\"color: #00af00; text-decoration-color: #00af00\">896</span> │\n",
       "├─────────────────────────────────┼────────────────────────┼───────────────┤\n",
       "│ max_pooling2d_3 (<span style=\"color: #0087ff; text-decoration-color: #0087ff\">MaxPooling2D</span>)  │ (<span style=\"color: #00d7ff; text-decoration-color: #00d7ff\">None</span>, <span style=\"color: #00af00; text-decoration-color: #00af00\">15</span>, <span style=\"color: #00af00; text-decoration-color: #00af00\">15</span>, <span style=\"color: #00af00; text-decoration-color: #00af00\">32</span>)     │             <span style=\"color: #00af00; text-decoration-color: #00af00\">0</span> │\n",
       "├─────────────────────────────────┼────────────────────────┼───────────────┤\n",
       "│ conv2d_4 (<span style=\"color: #0087ff; text-decoration-color: #0087ff\">Conv2D</span>)               │ (<span style=\"color: #00d7ff; text-decoration-color: #00d7ff\">None</span>, <span style=\"color: #00af00; text-decoration-color: #00af00\">13</span>, <span style=\"color: #00af00; text-decoration-color: #00af00\">13</span>, <span style=\"color: #00af00; text-decoration-color: #00af00\">64</span>)     │        <span style=\"color: #00af00; text-decoration-color: #00af00\">18,496</span> │\n",
       "├─────────────────────────────────┼────────────────────────┼───────────────┤\n",
       "│ max_pooling2d_4 (<span style=\"color: #0087ff; text-decoration-color: #0087ff\">MaxPooling2D</span>)  │ (<span style=\"color: #00d7ff; text-decoration-color: #00d7ff\">None</span>, <span style=\"color: #00af00; text-decoration-color: #00af00\">6</span>, <span style=\"color: #00af00; text-decoration-color: #00af00\">6</span>, <span style=\"color: #00af00; text-decoration-color: #00af00\">64</span>)       │             <span style=\"color: #00af00; text-decoration-color: #00af00\">0</span> │\n",
       "├─────────────────────────────────┼────────────────────────┼───────────────┤\n",
       "│ conv2d_5 (<span style=\"color: #0087ff; text-decoration-color: #0087ff\">Conv2D</span>)               │ (<span style=\"color: #00d7ff; text-decoration-color: #00d7ff\">None</span>, <span style=\"color: #00af00; text-decoration-color: #00af00\">4</span>, <span style=\"color: #00af00; text-decoration-color: #00af00\">4</span>, <span style=\"color: #00af00; text-decoration-color: #00af00\">64</span>)       │        <span style=\"color: #00af00; text-decoration-color: #00af00\">36,928</span> │\n",
       "├─────────────────────────────────┼────────────────────────┼───────────────┤\n",
       "│ max_pooling2d_5 (<span style=\"color: #0087ff; text-decoration-color: #0087ff\">MaxPooling2D</span>)  │ (<span style=\"color: #00d7ff; text-decoration-color: #00d7ff\">None</span>, <span style=\"color: #00af00; text-decoration-color: #00af00\">2</span>, <span style=\"color: #00af00; text-decoration-color: #00af00\">2</span>, <span style=\"color: #00af00; text-decoration-color: #00af00\">64</span>)       │             <span style=\"color: #00af00; text-decoration-color: #00af00\">0</span> │\n",
       "├─────────────────────────────────┼────────────────────────┼───────────────┤\n",
       "│ flatten_1 (<span style=\"color: #0087ff; text-decoration-color: #0087ff\">Flatten</span>)             │ (<span style=\"color: #00d7ff; text-decoration-color: #00d7ff\">None</span>, <span style=\"color: #00af00; text-decoration-color: #00af00\">256</span>)            │             <span style=\"color: #00af00; text-decoration-color: #00af00\">0</span> │\n",
       "├─────────────────────────────────┼────────────────────────┼───────────────┤\n",
       "│ dense_2 (<span style=\"color: #0087ff; text-decoration-color: #0087ff\">Dense</span>)                 │ (<span style=\"color: #00d7ff; text-decoration-color: #00d7ff\">None</span>, <span style=\"color: #00af00; text-decoration-color: #00af00\">128</span>)            │        <span style=\"color: #00af00; text-decoration-color: #00af00\">32,896</span> │\n",
       "├─────────────────────────────────┼────────────────────────┼───────────────┤\n",
       "│ dropout_1 (<span style=\"color: #0087ff; text-decoration-color: #0087ff\">Dropout</span>)             │ (<span style=\"color: #00d7ff; text-decoration-color: #00d7ff\">None</span>, <span style=\"color: #00af00; text-decoration-color: #00af00\">128</span>)            │             <span style=\"color: #00af00; text-decoration-color: #00af00\">0</span> │\n",
       "├─────────────────────────────────┼────────────────────────┼───────────────┤\n",
       "│ dense_3 (<span style=\"color: #0087ff; text-decoration-color: #0087ff\">Dense</span>)                 │ (<span style=\"color: #00d7ff; text-decoration-color: #00d7ff\">None</span>, <span style=\"color: #00af00; text-decoration-color: #00af00\">43</span>)             │         <span style=\"color: #00af00; text-decoration-color: #00af00\">5,547</span> │\n",
       "├─────────────────────────────────┼────────────────────────┼───────────────┤\n",
       "│ activation_1 (<span style=\"color: #0087ff; text-decoration-color: #0087ff\">Activation</span>)       │ (<span style=\"color: #00d7ff; text-decoration-color: #00d7ff\">None</span>, <span style=\"color: #00af00; text-decoration-color: #00af00\">43</span>)             │             <span style=\"color: #00af00; text-decoration-color: #00af00\">0</span> │\n",
       "└─────────────────────────────────┴────────────────────────┴───────────────┘\n",
       "</pre>\n"
      ],
      "text/plain": [
       "┏━━━━━━━━━━━━━━━━━━━━━━━━━━━━━━━━━┳━━━━━━━━━━━━━━━━━━━━━━━━┳━━━━━━━━━━━━━━━┓\n",
       "┃\u001b[1m \u001b[0m\u001b[1mLayer (type)                   \u001b[0m\u001b[1m \u001b[0m┃\u001b[1m \u001b[0m\u001b[1mOutput Shape          \u001b[0m\u001b[1m \u001b[0m┃\u001b[1m \u001b[0m\u001b[1m      Param #\u001b[0m\u001b[1m \u001b[0m┃\n",
       "┡━━━━━━━━━━━━━━━━━━━━━━━━━━━━━━━━━╇━━━━━━━━━━━━━━━━━━━━━━━━╇━━━━━━━━━━━━━━━┩\n",
       "│ conv2d_3 (\u001b[38;5;33mConv2D\u001b[0m)               │ (\u001b[38;5;45mNone\u001b[0m, \u001b[38;5;34m30\u001b[0m, \u001b[38;5;34m30\u001b[0m, \u001b[38;5;34m32\u001b[0m)     │           \u001b[38;5;34m896\u001b[0m │\n",
       "├─────────────────────────────────┼────────────────────────┼───────────────┤\n",
       "│ max_pooling2d_3 (\u001b[38;5;33mMaxPooling2D\u001b[0m)  │ (\u001b[38;5;45mNone\u001b[0m, \u001b[38;5;34m15\u001b[0m, \u001b[38;5;34m15\u001b[0m, \u001b[38;5;34m32\u001b[0m)     │             \u001b[38;5;34m0\u001b[0m │\n",
       "├─────────────────────────────────┼────────────────────────┼───────────────┤\n",
       "│ conv2d_4 (\u001b[38;5;33mConv2D\u001b[0m)               │ (\u001b[38;5;45mNone\u001b[0m, \u001b[38;5;34m13\u001b[0m, \u001b[38;5;34m13\u001b[0m, \u001b[38;5;34m64\u001b[0m)     │        \u001b[38;5;34m18,496\u001b[0m │\n",
       "├─────────────────────────────────┼────────────────────────┼───────────────┤\n",
       "│ max_pooling2d_4 (\u001b[38;5;33mMaxPooling2D\u001b[0m)  │ (\u001b[38;5;45mNone\u001b[0m, \u001b[38;5;34m6\u001b[0m, \u001b[38;5;34m6\u001b[0m, \u001b[38;5;34m64\u001b[0m)       │             \u001b[38;5;34m0\u001b[0m │\n",
       "├─────────────────────────────────┼────────────────────────┼───────────────┤\n",
       "│ conv2d_5 (\u001b[38;5;33mConv2D\u001b[0m)               │ (\u001b[38;5;45mNone\u001b[0m, \u001b[38;5;34m4\u001b[0m, \u001b[38;5;34m4\u001b[0m, \u001b[38;5;34m64\u001b[0m)       │        \u001b[38;5;34m36,928\u001b[0m │\n",
       "├─────────────────────────────────┼────────────────────────┼───────────────┤\n",
       "│ max_pooling2d_5 (\u001b[38;5;33mMaxPooling2D\u001b[0m)  │ (\u001b[38;5;45mNone\u001b[0m, \u001b[38;5;34m2\u001b[0m, \u001b[38;5;34m2\u001b[0m, \u001b[38;5;34m64\u001b[0m)       │             \u001b[38;5;34m0\u001b[0m │\n",
       "├─────────────────────────────────┼────────────────────────┼───────────────┤\n",
       "│ flatten_1 (\u001b[38;5;33mFlatten\u001b[0m)             │ (\u001b[38;5;45mNone\u001b[0m, \u001b[38;5;34m256\u001b[0m)            │             \u001b[38;5;34m0\u001b[0m │\n",
       "├─────────────────────────────────┼────────────────────────┼───────────────┤\n",
       "│ dense_2 (\u001b[38;5;33mDense\u001b[0m)                 │ (\u001b[38;5;45mNone\u001b[0m, \u001b[38;5;34m128\u001b[0m)            │        \u001b[38;5;34m32,896\u001b[0m │\n",
       "├─────────────────────────────────┼────────────────────────┼───────────────┤\n",
       "│ dropout_1 (\u001b[38;5;33mDropout\u001b[0m)             │ (\u001b[38;5;45mNone\u001b[0m, \u001b[38;5;34m128\u001b[0m)            │             \u001b[38;5;34m0\u001b[0m │\n",
       "├─────────────────────────────────┼────────────────────────┼───────────────┤\n",
       "│ dense_3 (\u001b[38;5;33mDense\u001b[0m)                 │ (\u001b[38;5;45mNone\u001b[0m, \u001b[38;5;34m43\u001b[0m)             │         \u001b[38;5;34m5,547\u001b[0m │\n",
       "├─────────────────────────────────┼────────────────────────┼───────────────┤\n",
       "│ activation_1 (\u001b[38;5;33mActivation\u001b[0m)       │ (\u001b[38;5;45mNone\u001b[0m, \u001b[38;5;34m43\u001b[0m)             │             \u001b[38;5;34m0\u001b[0m │\n",
       "└─────────────────────────────────┴────────────────────────┴───────────────┘\n"
      ]
     },
     "metadata": {},
     "output_type": "display_data"
    },
    {
     "data": {
      "text/html": [
       "<pre style=\"white-space:pre;overflow-x:auto;line-height:normal;font-family:Menlo,'DejaVu Sans Mono',consolas,'Courier New',monospace\"><span style=\"font-weight: bold\"> Total params: </span><span style=\"color: #00af00; text-decoration-color: #00af00\">94,763</span> (370.17 KB)\n",
       "</pre>\n"
      ],
      "text/plain": [
       "\u001b[1m Total params: \u001b[0m\u001b[38;5;34m94,763\u001b[0m (370.17 KB)\n"
      ]
     },
     "metadata": {},
     "output_type": "display_data"
    },
    {
     "data": {
      "text/html": [
       "<pre style=\"white-space:pre;overflow-x:auto;line-height:normal;font-family:Menlo,'DejaVu Sans Mono',consolas,'Courier New',monospace\"><span style=\"font-weight: bold\"> Trainable params: </span><span style=\"color: #00af00; text-decoration-color: #00af00\">94,763</span> (370.17 KB)\n",
       "</pre>\n"
      ],
      "text/plain": [
       "\u001b[1m Trainable params: \u001b[0m\u001b[38;5;34m94,763\u001b[0m (370.17 KB)\n"
      ]
     },
     "metadata": {},
     "output_type": "display_data"
    },
    {
     "data": {
      "text/html": [
       "<pre style=\"white-space:pre;overflow-x:auto;line-height:normal;font-family:Menlo,'DejaVu Sans Mono',consolas,'Courier New',monospace\"><span style=\"font-weight: bold\"> Non-trainable params: </span><span style=\"color: #00af00; text-decoration-color: #00af00\">0</span> (0.00 B)\n",
       "</pre>\n"
      ],
      "text/plain": [
       "\u001b[1m Non-trainable params: \u001b[0m\u001b[38;5;34m0\u001b[0m (0.00 B)\n"
      ]
     },
     "metadata": {},
     "output_type": "display_data"
    }
   ],
   "source": [
    "modelo.summary()"
   ]
  },
  {
   "cell_type": "markdown",
   "metadata": {},
   "source": [
    "### Entrenamiento de modelo"
   ]
  },
  {
   "cell_type": "markdown",
   "metadata": {},
   "source": [
    "#### Codificar labels"
   ]
  },
  {
   "cell_type": "code",
   "execution_count": 28,
   "metadata": {},
   "outputs": [],
   "source": [
    "from tensorflow.keras.utils import to_categorical"
   ]
  },
  {
   "cell_type": "code",
   "execution_count": 29,
   "metadata": {},
   "outputs": [],
   "source": [
    "# Convertir las etiquetas a one-hot encoding\n",
    "num_clases = len(labels)\n",
    "train_labels = to_categorical(train_data['labels'], num_clases)\n",
    "validation_labels = to_categorical(validation_data['labels'], num_clases)\n",
    "test_labels = to_categorical(test_data['labels'], num_clases)"
   ]
  },
  {
   "cell_type": "markdown",
   "metadata": {},
   "source": [
    "#### Early Stoping"
   ]
  },
  {
   "cell_type": "code",
   "execution_count": 30,
   "metadata": {},
   "outputs": [],
   "source": [
    "from tensorflow.keras.callbacks import EarlyStopping"
   ]
  },
  {
   "cell_type": "code",
   "execution_count": 31,
   "metadata": {},
   "outputs": [],
   "source": [
    "early_stop = EarlyStopping(monitor = 'val_loss', patience = 3)"
   ]
  },
  {
   "cell_type": "code",
   "execution_count": 33,
   "metadata": {},
   "outputs": [
    {
     "name": "stdout",
     "output_type": "stream",
     "text": [
      "Epoch 1/30\n",
      "\u001b[1m1088/1088\u001b[0m \u001b[32m━━━━━━━━━━━━━━━━━━━━\u001b[0m\u001b[37m\u001b[0m \u001b[1m14s\u001b[0m 13ms/step - accuracy: 0.9766 - loss: 0.0783 - val_accuracy: 0.9544 - val_loss: 0.2248\n",
      "Epoch 2/30\n",
      "\u001b[1m1088/1088\u001b[0m \u001b[32m━━━━━━━━━━━━━━━━━━━━\u001b[0m\u001b[37m\u001b[0m \u001b[1m16s\u001b[0m 15ms/step - accuracy: 0.9792 - loss: 0.0638 - val_accuracy: 0.9601 - val_loss: 0.1634\n",
      "Epoch 3/30\n",
      "\u001b[1m1088/1088\u001b[0m \u001b[32m━━━━━━━━━━━━━━━━━━━━\u001b[0m\u001b[37m\u001b[0m \u001b[1m14s\u001b[0m 13ms/step - accuracy: 0.9831 - loss: 0.0543 - val_accuracy: 0.9676 - val_loss: 0.1886\n",
      "Epoch 4/30\n",
      "\u001b[1m1088/1088\u001b[0m \u001b[32m━━━━━━━━━━━━━━━━━━━━\u001b[0m\u001b[37m\u001b[0m \u001b[1m14s\u001b[0m 13ms/step - accuracy: 0.9866 - loss: 0.0452 - val_accuracy: 0.9608 - val_loss: 0.1981\n",
      "Epoch 5/30\n",
      "\u001b[1m1088/1088\u001b[0m \u001b[32m━━━━━━━━━━━━━━━━━━━━\u001b[0m\u001b[37m\u001b[0m \u001b[1m14s\u001b[0m 13ms/step - accuracy: 0.9849 - loss: 0.0562 - val_accuracy: 0.9592 - val_loss: 0.1947\n"
     ]
    }
   ],
   "source": [
    "history = modelo.fit(\n",
    "    train_data['features'],\n",
    "    train_labels, \n",
    "    validation_data=(validation_data['features'], validation_labels),\n",
    "    epochs=30,\n",
    "    batch_size=32,\n",
    "    callbacks = [early_stop, tablero]\n",
    ")\n"
   ]
  },
  {
   "cell_type": "markdown",
   "metadata": {},
   "source": [
    "### Evaluar el modelo\n"
   ]
  },
  {
   "cell_type": "code",
   "execution_count": 34,
   "metadata": {},
   "outputs": [
    {
     "name": "stdout",
     "output_type": "stream",
     "text": [
      "\u001b[1m395/395\u001b[0m \u001b[32m━━━━━━━━━━━━━━━━━━━━\u001b[0m\u001b[37m\u001b[0m \u001b[1m1s\u001b[0m 4ms/step - accuracy: 0.9508 - loss: 0.2927\n",
      "Precisión en el conjunto de prueba: 0.9482185244560242\n"
     ]
    }
   ],
   "source": [
    "test_loss, test_acc = modelo.evaluate(test_data['features'], test_labels)\n",
    "print(f'Precisión en el conjunto de prueba: {test_acc}')"
   ]
  },
  {
   "cell_type": "code",
   "execution_count": 41,
   "metadata": {},
   "outputs": [
    {
     "name": "stdout",
     "output_type": "stream",
     "text": [
      "\u001b[1m395/395\u001b[0m \u001b[32m━━━━━━━━━━━━━━━━━━━━\u001b[0m\u001b[37m\u001b[0m \u001b[1m2s\u001b[0m 4ms/step\n",
      "                                                                    precision    recall  f1-score   support\n",
      "\n",
      "                                         Limite velocidad (20km/h)       0.97      0.93      0.95        60\n",
      "                                         Limite velocidad (30km/h)       0.92      0.99      0.95       720\n",
      "                                         Limite velocidad (50km/h)       0.92      0.97      0.94       750\n",
      "                                         Limite velocidad (60km/h)       0.98      0.93      0.95       450\n",
      "                                         Limite velocidad (70km/h)       0.93      0.98      0.96       660\n",
      "                                         Limite velocidad (80km/h)       0.91      0.93      0.92       630\n",
      "                                  Fin de limite velocidad (80km/h)       1.00      0.79      0.88       150\n",
      "                                        Limite velocidad (100km/h)       0.96      0.92      0.94       450\n",
      "                                        Limite velocidad (120km/h)       0.97      0.86      0.91       450\n",
      "                                                        No rebasar       0.97      0.99      0.98       480\n",
      "       No rebasar para vehículos mayores de 3.5 toneladas métricas       0.97      0.99      0.98       660\n",
      "                       Derecho-de-vía en la siguiente intersección       0.95      0.96      0.96       420\n",
      "                                                Camino prioritario       0.93      0.99      0.96       690\n",
      "                                                      Ceda el paso       0.95      0.99      0.97       720\n",
      "                                                              Alto       1.00      0.99      0.99       270\n",
      "                                                      No vehículos       0.99      0.86      0.92       210\n",
      "             Prohibido vehículos mayores de 3.5 toneladas métricas       0.99      0.99      0.99       150\n",
      "                                                    No hay entrada       1.00      0.95      0.97       360\n",
      "                                                Precaución general       0.95      0.89      0.92       390\n",
      "                                    Curva peligrosa a la izquierda       0.81      0.98      0.89        60\n",
      "                                      Curva peligrosa a la derecha       0.84      0.90      0.87        90\n",
      "                                                       Doble curva       0.94      0.52      0.67        90\n",
      "                                                  Camino disparejo       1.00      0.93      0.96       120\n",
      "                                                  Camino resbaloso       0.91      0.98      0.94       150\n",
      "                                     Camino se reduce a la derecha       0.92      0.73      0.81        90\n",
      "                                                 Trabajos adelante       0.98      0.90      0.94       480\n",
      "                                    Señales de Tráfico -semáforos-       0.88      0.98      0.93       180\n",
      "                                                 Cruce de peatones       0.42      0.48      0.45        60\n",
      "                                                    Cruce de Niños       0.90      0.95      0.92       150\n",
      "                                               Cruce de bicicletas       0.81      0.99      0.89        90\n",
      "                                               Cuidado hielo/nieve       0.94      0.73      0.82       150\n",
      "                                      Cruce de animales silvestres       0.98      0.98      0.98       270\n",
      "                    Fin de todos los limites de velocidad y rebase       0.89      0.93      0.91        60\n",
      "                                        Gire a la derecha adelante       1.00      1.00      1.00       210\n",
      "                                      Gire a la izquierda adelante       1.00      0.99      1.00       120\n",
      "                                                        Recto solo       0.99      0.99      0.99       390\n",
      "                                         Vaya recto o a la derecha       0.99      0.93      0.96       120\n",
      "                                       Vaya recto o a la izquierda       1.00      0.97      0.98        60\n",
      "                                           Manténgase a la derecha       0.98      0.99      0.98       690\n",
      "                                         Manténgase a la izquierda       0.99      0.96      0.97        90\n",
      "                                              Vuelta en U obligada       0.96      0.98      0.97        90\n",
      "                                                 Fin de no rebasar       0.98      0.78      0.87        60\n",
      "Fin de no rebasar para vehículos mayores de 3.5 toneladas métricas       0.86      0.99      0.92        90\n",
      "\n",
      "                                                          accuracy                           0.95     12630\n",
      "                                                         macro avg       0.94      0.92      0.92     12630\n",
      "                                                      weighted avg       0.95      0.95      0.95     12630\n",
      "\n"
     ]
    }
   ],
   "source": [
    "import numpy as np\n",
    "from sklearn.metrics import classification_report\n",
    "\n",
    "# Realiza predicciones en el conjunto de datos de prueba\n",
    "test_predictions = modelo.predict(test_data['features'])\n",
    "\n",
    "# Convierte las predicciones a etiquetas (clases)\n",
    "test_predictions_classes = np.argmax(test_predictions, axis=1)\n",
    "\n",
    "# Convierte las etiquetas verdaderas a clases (si es necesario)\n",
    "test_labels_classes = np.argmax(test_labels, axis=1)\n",
    "\n",
    "# Calcula las métricas de evaluación\n",
    "report = classification_report(test_labels_classes, test_predictions_classes, target_names=labels)\n",
    "print(report)"
   ]
  },
  {
   "cell_type": "code",
   "execution_count": 38,
   "metadata": {},
   "outputs": [
    {
     "data": {
      "image/png": "[encoded data removed]",
      "text/plain": [
       "<IPython.core.display.Image object>"
      ]
     },
     "execution_count": 38,
     "metadata": {},
     "output_type": "execute_result"
    }
   ],
   "source": [
    "from graphviz import Digraph\n",
    "from IPython.display import Image\n",
    "\n",
    "def custom_model_architecture():\n",
    "    dot = Digraph()\n",
    "    dot.attr(fontname='Arial')\n",
    "    \n",
    "    dot.node('Input', 'Input Layer\\n{}'.format(forma_imagen), fontname='Arial')\n",
    "    \n",
    "    dot.node('Conv1', 'Conv Layer 1\\n32x3x3 ReLU', fontname='Arial')\n",
    "    dot.node('Pool1', 'MaxPooling Layer 1\\n2x2', fontname='Arial')\n",
    "    \n",
    "    dot.node('Conv2', 'Conv Layer 2\\n64x3x3 ReLU', fontname='Arial')\n",
    "    dot.node('Pool2', 'MaxPooling Layer 2\\n2x2', fontname='Arial')\n",
    "    \n",
    "    dot.node('Conv3', 'Conv Layer 3\\n64x3x3 ReLU', fontname='Arial')\n",
    "    dot.node('Pool3', 'MaxPooling Layer 3\\n2x2', fontname='Arial')\n",
    "    \n",
    "    dot.node('Flatten', 'Flatten Layer', fontname='Arial')\n",
    "    \n",
    "    dot.node('FC1', 'Fully Connected Layer\\n128 Neurons ReLU', fontname='Arial')\n",
    "    \n",
    "    dot.node('Dropout', 'Dropout Layer\\nRate 0.5', fontname='Arial')\n",
    "    \n",
    "    dot.node('Output', 'Output Layer\\n{} Neurons Softmax'.format(num_clases), fontname='Arial')\n",
    "    \n",
    "    dot.edge('Input', 'Conv1')\n",
    "    dot.edge('Conv1', 'Pool1')\n",
    "    dot.edge('Pool1', 'Conv2')\n",
    "    dot.edge('Conv2', 'Pool2')\n",
    "    dot.edge('Pool2', 'Conv3')\n",
    "    dot.edge('Conv3', 'Pool3')\n",
    "    dot.edge('Pool3', 'Flatten')\n",
    "    dot.edge('Flatten', 'FC1')\n",
    "    dot.edge('FC1', 'Dropout')\n",
    "    dot.edge('Dropout', 'Output')\n",
    "    \n",
    "    return dot\n",
    "\n",
    "# Crear y renderizar el diagrama\n",
    "forma_imagen = (32, 32, 3)  # Ejemplo de forma de imagen, ajusta según tus datos\n",
    "num_clases = 10  # Ejemplo de número de clases, ajusta según tus datos\n",
    "\n",
    "custom_model_diagram = custom_model_architecture()\n",
    "custom_model_diagram.render('/mnt/data/custom_model_architecture', format='png')\n",
    "\n",
    "# Mostrar la imagen dentro del notebook\n",
    "Image('/mnt/data/custom_model_architecture.png')\n"
   ]
  }
 ],
 "metadata": {
  "kernelspec": {
   "display_name": "ds-entorno",
   "language": "python",
   "name": "python3"
  },
  "language_info": {
   "codemirror_mode": {
    "name": "ipython",
    "version": 3
   },
   "file_extension": ".py",
   "mimetype": "text/x-python",
   "name": "python",
   "nbconvert_exporter": "python",
   "pygments_lexer": "ipython3",
   "version": "3.11.7"
  }
 },
 "nbformat": 4,
 "nbformat_minor": 2
}
